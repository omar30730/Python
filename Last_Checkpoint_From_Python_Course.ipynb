{
 "cells": [
  {
   "cell_type": "code",
   "execution_count": 29,
   "id": "bfcac7c1",
   "metadata": {},
   "outputs": [],
   "source": [
    "import tkinter as tk\n",
    "\n",
    "def fahrenheit_to_celsius():\n",
    "    f = float(ent_temperature.get())\n",
    "    c = 5/9*(f-32)\n",
    "    lbl_result.config(text=round(c, 2))\n",
    "\n",
    "window = tk.Tk()\n",
    "\n",
    "window.resizable(width=False, height=False)\n",
    "\n",
    "frm_entry = tk.Frame(master=window)\n",
    "\n",
    "ent_temperature = tk.Entry(master=frm_entry, width=10)\n",
    "\n",
    "lbl_temp = tk.Label(master=frm_entry, text=\"\\N{DEGREE FAHRENHEIT}\")\n",
    "\n",
    "ent_temperature.grid(row=0, column=0, sticky=\"e\")\n",
    "\n",
    "lbl_temp.grid(row=0, column=1, sticky=\"w\")\n",
    "\n",
    "btn_convert = tk.Button(master=window, text=\"\\N{RIGHTWARDS BLACK ARROW}\", command=fahrenheit_to_celsius)\n",
    "\n",
    "lbl_result = tk.Label(master=window, text=\"\\N{DEGREE CELSIUS}\")\n",
    "\n",
    "frm_entry.grid(row=0, column=0, padx=10), btn_convert.grid(row=0, column=1, pady=10), lbl_result.grid(row=0, column=2, padx=10)\n",
    "\n",
    "window.mainloop()"
   ]
  },
  {
   "cell_type": "code",
   "execution_count": null,
   "id": "f195791c",
   "metadata": {},
   "outputs": [],
   "source": []
  },
  {
   "cell_type": "code",
   "execution_count": null,
   "id": "3fe3e826",
   "metadata": {},
   "outputs": [],
   "source": []
  }
 ],
 "metadata": {
  "kernelspec": {
   "display_name": "Python 3 (ipykernel)",
   "language": "python",
   "name": "python3"
  },
  "language_info": {
   "codemirror_mode": {
    "name": "ipython",
    "version": 3
   },
   "file_extension": ".py",
   "mimetype": "text/x-python",
   "name": "python",
   "nbconvert_exporter": "python",
   "pygments_lexer": "ipython3",
   "version": "3.10.9"
  }
 },
 "nbformat": 4,
 "nbformat_minor": 5
}
