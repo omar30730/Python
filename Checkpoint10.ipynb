{
 "cells": [
  {
   "cell_type": "code",
   "execution_count": 22,
   "id": "45436394",
   "metadata": {},
   "outputs": [
    {
     "name": "stdout",
     "output_type": "stream",
     "text": [
      "False not found \n",
      "\n",
      "3\n"
     ]
    }
   ],
   "source": [
    "#First Question\n",
    "\n",
    "def binary_search(list1, item):\n",
    "    \n",
    "    begin_index = 0\n",
    "    \n",
    "    end_index = len(list1) - 1\n",
    "\n",
    "    while begin_index <= end_index:\n",
    "        \n",
    "        midpoint = begin_index + (end_index - begin_index) // 2\n",
    "        \n",
    "        midpoint_value = list1[midpoint]\n",
    "        \n",
    "        if midpoint_value == item:\n",
    "            \n",
    "            return midpoint\n",
    "\n",
    "        elif item < midpoint_value:\n",
    "            \n",
    "            end_index = midpoint - 1\n",
    "\n",
    "        else:\n",
    "            \n",
    "            begin_index = midpoint + 1\n",
    "\n",
    "    return \"False not found\"\n",
    "\n",
    "list1_a = [1,2,3,5,8]\n",
    "\n",
    "item_a = 6\n",
    "\n",
    "list_b = [1,2,3,5,8]\n",
    "\n",
    "item_b = 5\n",
    "\n",
    "print(binary_search(sequence_a, item_a),\"\\n\")\n",
    "\n",
    "print(binary_search(sequence_b, item_b))"
   ]
  },
  {
   "cell_type": "code",
   "execution_count": 10,
   "id": "c1c91bc6",
   "metadata": {},
   "outputs": [
    {
     "name": "stdout",
     "output_type": "stream",
     "text": [
      "Enter the number  : 5\n",
      "Enter the number you want to power it on the first number  : 3\n"
     ]
    },
    {
     "data": {
      "text/plain": [
       "125"
      ]
     },
     "execution_count": 10,
     "metadata": {},
     "output_type": "execute_result"
    }
   ],
   "source": [
    "#Second Question\n",
    "def power(num,pwr):\n",
    "    \n",
    "    return num ** pwr\n",
    "    \n",
    "n1 = int(input(\"Enter the number  : \"))\n",
    "\n",
    "n2 = int(input(\"Enter the number you want to power it on the first number  : \"))\n",
    "\n",
    "power(n1,n2)"
   ]
  },
  {
   "cell_type": "code",
   "execution_count": 12,
   "id": "613d75c7",
   "metadata": {},
   "outputs": [
    {
     "name": "stdout",
     "output_type": "stream",
     "text": [
      "[13, 22, 29, 37, 49, 46, 52, 56, 71]\n"
     ]
    }
   ],
   "source": [
    "#Third Question\n",
    "def bubble_sort(list0):\n",
    "    \n",
    "    length = len(list0)-1\n",
    "    \n",
    "    omar = False\n",
    "    \n",
    "    while not omar:\n",
    "        \n",
    "        omar = True\n",
    "        \n",
    "        for i in range(length):\n",
    "            \n",
    "            if list0[i] > list0[i+1]:\n",
    "                \n",
    "                oamr = False\n",
    "                \n",
    "                list0[i] , list0[i+1] = list0[i+1] , list0[i]\n",
    "\n",
    "    return list0\n",
    "\n",
    "x =  [29,13,22,37,52,49,46,71,56]37, 49, 46, 52, 56, 71]\n",
    "\n",
    "print(bubble_sort(x))"
   ]
  },
  {
   "cell_type": "code",
   "execution_count": 18,
   "id": "5482a2c4",
   "metadata": {},
   "outputs": [
    {
     "name": "stdout",
     "output_type": "stream",
     "text": [
      "[13, 22, 29, 37, 46, 49, 52, 56, 71]\n"
     ]
    }
   ],
   "source": [
    "#Fourth Question\n",
    "def mergeSort(liss):\n",
    "    \n",
    "    if len(liss) > 1:\n",
    "        \n",
    "        mid = len(liss) // 2\n",
    "        \n",
    "        left_list=liss[:mid]\n",
    "        \n",
    "        right_list=liss[mid:]\n",
    "        \n",
    "        mergeSort(left_list)\n",
    "        \n",
    "        mergeSort(right_list)\n",
    "        \n",
    "        i = 0\n",
    "        \n",
    "        j = 0\n",
    "        \n",
    "        k = 0\n",
    "        while i < len(left_list) and j < len(right_list):\n",
    "            \n",
    "            if left_list[i] <= right_list[j]:\n",
    "                \n",
    "                liss[k] = left_list[i]\n",
    "                \n",
    "                i += 1\n",
    "                \n",
    "            else:\n",
    "            \n",
    "                liss[k] = right_list[j]\n",
    "                \n",
    "                j += 1\n",
    "                \n",
    "            k += 1\n",
    "\n",
    "\n",
    "        while i < len(left_list):\n",
    "            \n",
    "            liss[k] = left_list[i]\n",
    "            \n",
    "            i += 1\n",
    "            \n",
    "            k += 1\n",
    "            \n",
    "        while j < len(right_list):\n",
    "            \n",
    "            liss[k] = right_list[j]\n",
    "            \n",
    "            j += 1\n",
    "            \n",
    "            k += 1\n",
    "            \n",
    "\n",
    "\n",
    "\n",
    "\n",
    "myList = [29,13,22,37,52,49,46,71,56]\n",
    "\n",
    "mergeSort(myList)\n",
    "\n",
    "print(myList)"
   ]
  },
  {
   "cell_type": "code",
   "execution_count": 16,
   "id": "ab755ae3",
   "metadata": {},
   "outputs": [
    {
     "name": "stdout",
     "output_type": "stream",
     "text": [
      "[13, 22, 29, 37, 46, 49, 52, 56, 71]\n"
     ]
    }
   ],
   "source": [
    "def quick_sort(lisst):\n",
    "    \n",
    "    length = len(lisst)\n",
    "    \n",
    "    if length <= 1:\n",
    "        \n",
    "        return lisst\n",
    "    \n",
    "    else :\n",
    "        \n",
    "        pivot = lisst.pop()\n",
    "        \n",
    "    items_greater = []\n",
    "    \n",
    "    items_lower = []\n",
    "    \n",
    "    for i in lisst:\n",
    "        \n",
    "        if i > pivot:\n",
    "            \n",
    "            items_greater.append(i)\n",
    "            \n",
    "        else:\n",
    "            \n",
    "            items_lower.append(i)\n",
    "            \n",
    "    return quick_sort(items_lower) + [pivot] + quick_sort(items_greater)\n",
    "\n",
    "\n",
    "\n",
    "x = [29,13,22,37,52,49,46,71,56]\n",
    "\n",
    "print(quick_sort(x))"
   ]
  },
  {
   "cell_type": "code",
   "execution_count": null,
   "id": "4c0d344f",
   "metadata": {},
   "outputs": [],
   "source": []
  }
 ],
 "metadata": {
  "kernelspec": {
   "display_name": "Python 3 (ipykernel)",
   "language": "python",
   "name": "python3"
  },
  "language_info": {
   "codemirror_mode": {
    "name": "ipython",
    "version": 3
   },
   "file_extension": ".py",
   "mimetype": "text/x-python",
   "name": "python",
   "nbconvert_exporter": "python",
   "pygments_lexer": "ipython3",
   "version": "3.10.9"
  }
 },
 "nbformat": 4,
 "nbformat_minor": 5
}
