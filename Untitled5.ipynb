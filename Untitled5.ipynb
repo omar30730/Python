{
 "cells": [
  {
   "cell_type": "code",
   "execution_count": 6,
   "id": "481d8b57",
   "metadata": {},
   "outputs": [
    {
     "name": "stdout",
     "output_type": "stream",
     "text": [
      "(1, 2, 3)\n"
     ]
    }
   ],
   "source": [
    "class Point3D:\n",
    "    def __init__(self,x,y,z):\n",
    "        self.x = x\n",
    "        self.y = y\n",
    "        self.z = z\n",
    "    def values(self):\n",
    "        return (self.x,self.y,self.z)\n",
    "my_point = Point3D(1,2,3)    #first question\n",
    "print(my_point.values())"
   ]
  },
  {
   "cell_type": "code",
   "execution_count": 8,
   "id": "5d7cf764",
   "metadata": {},
   "outputs": [
    {
     "name": "stdout",
     "output_type": "stream",
     "text": [
      "14\n",
      "12\n"
     ]
    }
   ],
   "source": [
    "class Rectangle:\n",
    "    def __init__(self,length,width):\n",
    "        self.length = length\n",
    "        self.width = width\n",
    "    def perimeter(self):\n",
    "        return 2*(self.length+self.width)\n",
    "    def area(self):\n",
    "        return self.length*self.width\n",
    "my_rectangle = Rectangle(4,3)\n",
    "\n",
    "print(my_rectangle.perimeter())\n",
    "print(my_rectangle.area())"
   ]
  },
  {
   "cell_type": "code",
   "execution_count": 9,
   "id": "5527afce",
   "metadata": {},
   "outputs": [
    {
     "name": "stdout",
     "output_type": "stream",
     "text": [
      "305.2447761824001\n"
     ]
    }
   ],
   "source": [
    "class Circle_constructed:\n",
    "    def __init__(self,center,radius):\n",
    "        self.radius=radius\n",
    "        self.center=center\n",
    "\n",
    "        \n",
    "    def area(self):\n",
    "        return 3.14**self.radius\n",
    "    def perimeter(self):\n",
    "        return 2*3.14*self.radius\n",
    "circle = Circle_constructed(10,5)\n",
    "print(circle.area())"
   ]
  },
  {
   "cell_type": "code",
   "execution_count": null,
   "id": "e327a149",
   "metadata": {},
   "outputs": [],
   "source": [
    "class Bank:\n",
    "    def __init__(self,balance):\n",
    "        self.balance = balance\n",
    "    def deposit(self):\n",
    "        return\n",
    "    def withdraw(self):\n",
    "        return"
   ]
  }
 ],
 "metadata": {
  "kernelspec": {
   "display_name": "Python 3 (ipykernel)",
   "language": "python",
   "name": "python3"
  },
  "language_info": {
   "codemirror_mode": {
    "name": "ipython",
    "version": 3
   },
   "file_extension": ".py",
   "mimetype": "text/x-python",
   "name": "python",
   "nbconvert_exporter": "python",
   "pygments_lexer": "ipython3",
   "version": "3.10.9"
  }
 },
 "nbformat": 4,
 "nbformat_minor": 5
}
