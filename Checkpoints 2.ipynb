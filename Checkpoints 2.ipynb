{
 "cells": [
  {
   "cell_type": "code",
   "execution_count": 1,
   "id": "4536c7f1",
   "metadata": {},
   "outputs": [
    {
     "name": "stdout",
     "output_type": "stream",
     "text": [
      "50\n",
      "Your guess is more than password\n",
      "10\n",
      "Your password is less than password\n",
      "20\n",
      "Your password is less than password\n",
      "30\n",
      "Your password is less than password\n",
      "40\n",
      "Your password is less than password\n",
      "50\n",
      "Your guess is more than password\n",
      "45\n",
      "Your password is less than password\n",
      "46\n",
      "Your password is less than password\n",
      "47\n",
      "Your guess is correct\n"
     ]
    }
   ],
   "source": [
    "import random\n",
    "\n",
    "password = random.randint(0,100)\n",
    "\n",
    "guess = int(input())\n",
    "\n",
    "while guess != password:\n",
    "    if guess > password:\n",
    "        print (\"Your guess is more than password\")\n",
    "        guess = int(input())\n",
    "    elif guess < password:\n",
    "        print (\"Your password is less than password\")\n",
    "        guess = int(input())\n",
    "print (\"Your guess is correct\")"
   ]
  },
  {
   "cell_type": "code",
   "execution_count": null,
   "id": "1fbec0de",
   "metadata": {},
   "outputs": [],
   "source": []
  },
  {
   "cell_type": "code",
   "execution_count": null,
   "id": "917914e2",
   "metadata": {},
   "outputs": [],
   "source": []
  }
 ],
 "metadata": {
  "kernelspec": {
   "display_name": "Python 3 (ipykernel)",
   "language": "python",
   "name": "python3"
  },
  "language_info": {
   "codemirror_mode": {
    "name": "ipython",
    "version": 3
   },
   "file_extension": ".py",
   "mimetype": "text/x-python",
   "name": "python",
   "nbconvert_exporter": "python",
   "pygments_lexer": "ipython3",
   "version": "3.10.9"
  }
 },
 "nbformat": 4,
 "nbformat_minor": 5
}
