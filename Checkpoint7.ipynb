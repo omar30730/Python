{
 "cells": [
  {
   "cell_type": "code",
   "execution_count": 189,
   "id": "72a1603f",
   "metadata": {},
   "outputs": [
    {
     "name": "stdout",
     "output_type": "stream",
     "text": [
      "        name  score  attempts qualify\n",
      "0  Anastasia   12.5         1     yes\n",
      "1       Dima    9.0         3      no\n",
      "2  Katherine   16.5         2     yes\n"
     ]
    }
   ],
   "source": [
    "import numpy as np\n",
    "\n",
    "import pandas as pd\n",
    "\n",
    "\n",
    "\n",
    "exam_data = {'name': ['Anastasia', 'Dima', 'Katherine', 'James', 'Emily', 'Michael', 'Matthew', 'Laura', 'Kevin', 'Jonas'],\n",
    "\n",
    "'score': [12.5, 9, 16.5, np.nan, 9, 20, 14.5, np.nan, 8, 19],\n",
    "\n",
    "'attempts': [1, 3, 2, 3, 2, 3, 1, 1, 2, 1],\n",
    "\n",
    "'qualify': ['yes', 'no', 'yes', 'no', 'no', 'yes', 'yes', 'no', 'no', 'yes']}\n",
    "\n",
    "labels = ['a', 'b', 'c', 'd', 'e', 'f', 'g', 'h', 'i', 'j']\n",
    "\n",
    "dataframe = pd.DataFrame(exam_data)\n",
    "\n",
    "row = dataframe.head(3)\n",
    "\n",
    "print(row)"
   ]
  },
  {
   "cell_type": "code",
   "execution_count": 190,
   "id": "f8419f52",
   "metadata": {},
   "outputs": [
    {
     "name": "stdout",
     "output_type": "stream",
     "text": [
      "        name  score  attempts qualify\n",
      "0  Anastasia   12.5         1     yes\n",
      "1       Dima    9.0         3      no\n",
      "2  Katherine   16.5         2     yes\n",
      "4      Emily    9.0         2      no\n",
      "5    Michael   20.0         3     yes\n",
      "6    Matthew   14.5         1     yes\n",
      "8      Kevin    8.0         2      no\n",
      "9      Jonas   19.0         1     yes\n"
     ]
    }
   ],
   "source": [
    "dataframe.dropna(inplace=True)\n",
    "print(dataframe)"
   ]
  },
  {
   "cell_type": "code",
   "execution_count": 191,
   "id": "99e73164",
   "metadata": {},
   "outputs": [
    {
     "name": "stdout",
     "output_type": "stream",
     "text": [
      "        name  score\n",
      "0  Anastasia   12.5\n",
      "1       Dima    9.0\n",
      "2  Katherine   16.5\n",
      "4      Emily    9.0\n",
      "5    Michael   20.0\n",
      "6    Matthew   14.5\n",
      "8      Kevin    8.0\n",
      "9      Jonas   19.0\n"
     ]
    }
   ],
   "source": [
    "mere = dataframe.iloc[:,[0,1]]\n",
    "print(mere)"
   ]
  },
  {
   "cell_type": "code",
   "execution_count": 192,
   "id": "99623a90",
   "metadata": {},
   "outputs": [],
   "source": [
    "add = dataframe.loc['k'] = ['Suresh',15.5,1,\"yes\"]"
   ]
  },
  {
   "cell_type": "code",
   "execution_count": 193,
   "id": "e6fe90d8",
   "metadata": {},
   "outputs": [
    {
     "data": {
      "text/plain": [
       "0    1\n",
       "1    3\n",
       "2    2\n",
       "4    2\n",
       "5    3\n",
       "6    1\n",
       "8    2\n",
       "9    1\n",
       "k    1\n",
       "Name: attempts, dtype: int64"
      ]
     },
     "execution_count": 193,
     "metadata": {},
     "output_type": "execute_result"
    }
   ],
   "source": [
    "dataframe.pop(\"attempts\")"
   ]
  },
  {
   "cell_type": "code",
   "execution_count": 194,
   "id": "a7a13d61",
   "metadata": {
    "scrolled": false
   },
   "outputs": [
    {
     "data": {
      "text/html": [
       "<div>\n",
       "<style scoped>\n",
       "    .dataframe tbody tr th:only-of-type {\n",
       "        vertical-align: middle;\n",
       "    }\n",
       "\n",
       "    .dataframe tbody tr th {\n",
       "        vertical-align: top;\n",
       "    }\n",
       "\n",
       "    .dataframe thead th {\n",
       "        text-align: right;\n",
       "    }\n",
       "</style>\n",
       "<table border=\"1\" class=\"dataframe\">\n",
       "  <thead>\n",
       "    <tr style=\"text-align: right;\">\n",
       "      <th></th>\n",
       "      <th>name</th>\n",
       "      <th>score</th>\n",
       "      <th>qualify</th>\n",
       "      <th>Success</th>\n",
       "    </tr>\n",
       "  </thead>\n",
       "  <tbody>\n",
       "    <tr>\n",
       "      <th>0</th>\n",
       "      <td>Anastasia</td>\n",
       "      <td>12.5</td>\n",
       "      <td>yes</td>\n",
       "      <td>1</td>\n",
       "    </tr>\n",
       "    <tr>\n",
       "      <th>1</th>\n",
       "      <td>Dima</td>\n",
       "      <td>9.0</td>\n",
       "      <td>no</td>\n",
       "      <td>0</td>\n",
       "    </tr>\n",
       "    <tr>\n",
       "      <th>2</th>\n",
       "      <td>Katherine</td>\n",
       "      <td>16.5</td>\n",
       "      <td>yes</td>\n",
       "      <td>1</td>\n",
       "    </tr>\n",
       "    <tr>\n",
       "      <th>4</th>\n",
       "      <td>Emily</td>\n",
       "      <td>9.0</td>\n",
       "      <td>no</td>\n",
       "      <td>0</td>\n",
       "    </tr>\n",
       "    <tr>\n",
       "      <th>5</th>\n",
       "      <td>Michael</td>\n",
       "      <td>20.0</td>\n",
       "      <td>yes</td>\n",
       "      <td>1</td>\n",
       "    </tr>\n",
       "    <tr>\n",
       "      <th>6</th>\n",
       "      <td>Matthew</td>\n",
       "      <td>14.5</td>\n",
       "      <td>yes</td>\n",
       "      <td>1</td>\n",
       "    </tr>\n",
       "    <tr>\n",
       "      <th>8</th>\n",
       "      <td>Kevin</td>\n",
       "      <td>8.0</td>\n",
       "      <td>no</td>\n",
       "      <td>0</td>\n",
       "    </tr>\n",
       "    <tr>\n",
       "      <th>9</th>\n",
       "      <td>Jonas</td>\n",
       "      <td>19.0</td>\n",
       "      <td>yes</td>\n",
       "      <td>1</td>\n",
       "    </tr>\n",
       "    <tr>\n",
       "      <th>k</th>\n",
       "      <td>Suresh</td>\n",
       "      <td>15.5</td>\n",
       "      <td>yes</td>\n",
       "      <td>1</td>\n",
       "    </tr>\n",
       "  </tbody>\n",
       "</table>\n",
       "</div>"
      ],
      "text/plain": [
       "        name  score qualify  Success\n",
       "0  Anastasia   12.5     yes        1\n",
       "1       Dima    9.0      no        0\n",
       "2  Katherine   16.5     yes        1\n",
       "4      Emily    9.0      no        0\n",
       "5    Michael   20.0     yes        1\n",
       "6    Matthew   14.5     yes        1\n",
       "8      Kevin    8.0      no        0\n",
       "9      Jonas   19.0     yes        1\n",
       "k     Suresh   15.5     yes        1"
      ]
     },
     "execution_count": 194,
     "metadata": {},
     "output_type": "execute_result"
    }
   ],
   "source": [
    "Success = []\n",
    "\n",
    "\n",
    "\n",
    "for row in dataframe['score']:\n",
    "        if row > 10 :\n",
    "            Success.append(1)\n",
    "        else:\n",
    "            Success.append(0)\n",
    "dataframe [\"Success\"] = Success \n",
    "dataframe"
   ]
  },
  {
   "cell_type": "code",
   "execution_count": 166,
   "id": "2044d9d9",
   "metadata": {},
   "outputs": [],
   "source": [
    "dataframe.to_csv(\"C:/Users/Hassan/Desktop/my_data\")"
   ]
  },
  {
   "cell_type": "code",
   "execution_count": null,
   "id": "b708cd38",
   "metadata": {},
   "outputs": [],
   "source": []
  }
 ],
 "metadata": {
  "kernelspec": {
   "display_name": "Python 3 (ipykernel)",
   "language": "python",
   "name": "python3"
  },
  "language_info": {
   "codemirror_mode": {
    "name": "ipython",
    "version": 3
   },
   "file_extension": ".py",
   "mimetype": "text/x-python",
   "name": "python",
   "nbconvert_exporter": "python",
   "pygments_lexer": "ipython3",
   "version": "3.10.9"
  }
 },
 "nbformat": 4,
 "nbformat_minor": 5
}
