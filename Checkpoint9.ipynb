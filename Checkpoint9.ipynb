{
 "cells": [
  {
   "cell_type": "code",
   "execution_count": 284,
   "id": "dc6d05db",
   "metadata": {},
   "outputs": [
    {
     "name": "stdout",
     "output_type": "stream",
     "text": [
      "['What is Python language?                                                \\n', 'Python is a widely used high-level, general-purpose, interpreted, dynamic programming language.Its design philosophy emphasizes code readability, and its syntax allows programmers to express concepts in fewer lines of code than possible in \\n', 'languages such as C++ or Java. \\n']\n"
     ]
    }
   ],
   "source": [
    "f = open(\"C:/Users/Hassan/Downloads/python (1).txt\",\"r\")\n",
    "\n",
    "lines = [line for line in f][:3]\n",
    "\n",
    "print(lines)"
   ]
  },
  {
   "cell_type": "code",
   "execution_count": 281,
   "id": "dcdc8d40",
   "metadata": {
    "scrolled": true
   },
   "outputs": [
    {
     "name": "stdout",
     "output_type": "stream",
     "text": [
      "languages such as C++ or Java. \n",
      "\n",
      "Python supports multiple programming paradigms, including object-oriented, imperative and functional programming or procedural styles. It features a dynamic type system and automatic memory management and has a large and comprehensive standard library.The best way we learn anything is by practice and exercise questions. We  have started this section for those (beginner to intermediate) who are familiar with Python.\n"
     ]
    }
   ],
   "source": [
    "def LastNlines(filename, N):\n",
    "\n",
    "    with open(filename) as file:\n",
    "        \n",
    "        for line in (file.readlines() [-N:]):\n",
    "            \n",
    "            print(line)\n",
    "            \n",
    "LastNlines(\"C:/Users/Hassan/Downloads/python (1).txt\",2)"
   ]
  },
  {
   "cell_type": "code",
   "execution_count": 279,
   "id": "b8c88c96",
   "metadata": {},
   "outputs": [
    {
     "name": "stdout",
     "output_type": "stream",
     "text": [
      "148\n"
     ]
    }
   ],
   "source": [
    "def count_words(filepath):\n",
    "    \n",
    "    with open(filepath) as f:\n",
    "        \n",
    "        data = f.read()\n",
    "        \n",
    "        data.replace(\",\", \" \")\n",
    "        \n",
    "    return len(data.split(\" \"))\n",
    "\n",
    "print(count_words(\"C:/Users/Hassan/Downloads/python (1).txt\"))"
   ]
  },
  {
   "cell_type": "code",
   "execution_count": null,
   "id": "db44e043",
   "metadata": {},
   "outputs": [],
   "source": []
  }
 ],
 "metadata": {
  "kernelspec": {
   "display_name": "Python 3 (ipykernel)",
   "language": "python",
   "name": "python3"
  },
  "language_info": {
   "codemirror_mode": {
    "name": "ipython",
    "version": 3
   },
   "file_extension": ".py",
   "mimetype": "text/x-python",
   "name": "python",
   "nbconvert_exporter": "python",
   "pygments_lexer": "ipython3",
   "version": "3.10.9"
  }
 },
 "nbformat": 4,
 "nbformat_minor": 5
}
