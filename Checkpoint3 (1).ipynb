{
 "cells": [
  {
   "cell_type": "code",
   "execution_count": 6,
   "id": "a857386e",
   "metadata": {},
   "outputs": [
    {
     "name": "stdout",
     "output_type": "stream",
     "text": [
      "Enter the first number  :   5\n",
      "Enter the second number :  6\n",
      "choose      +     ,     -     ,     *     or     /     :     -\n"
     ]
    },
    {
     "data": {
      "text/plain": [
       "('The result is  :  ', -1)"
      ]
     },
     "execution_count": 6,
     "metadata": {},
     "output_type": "execute_result"
    }
   ],
   "source": [
    "def calculator(num1,num2):\n",
    "   \n",
    "\n",
    "    operator=input(\"choose      +     ,     -     ,     *     or     /     :     \")\n",
    "\n",
    "\n",
    "\n",
    "\n",
    "\n",
    "    if (operator==\"+\"):\n",
    "\n",
    "        return \"The result is  :  \",num1+num2\n",
    "\n",
    "\n",
    "    elif (operator ==\"-\"):                            #i take tiny help from google\n",
    "\n",
    "        return \"The result is  :  \",num1-num2\n",
    "\n",
    "\n",
    "    elif (operator ==\"*\"):\n",
    "\n",
    "        return \"The result is  :  \",num1*num2\n",
    "\n",
    "\n",
    "\n",
    "    elif (operator ==\"/\"):\n",
    "        if num2==0:\n",
    "            return \"undefined\"\n",
    "        return \"The result is  :  \",num1/num2\n",
    "\n",
    "n1=int(input(\"Enter the first number  :   \"))\n",
    "n2=int(input(\"Enter the second number :  \"))\n",
    "\n",
    "\n",
    "    \n",
    "    \n",
    "    \n",
    "    \n",
    "calculator(n1,n2)\n",
    "    \n",
    "\n"
   ]
  },
  {
   "cell_type": "code",
   "execution_count": null,
   "id": "4c8a3abf",
   "metadata": {},
   "outputs": [],
   "source": []
  },
  {
   "cell_type": "code",
   "execution_count": null,
   "id": "98ea6f1e",
   "metadata": {},
   "outputs": [],
   "source": []
  },
  {
   "cell_type": "code",
   "execution_count": null,
   "id": "a77e3cf4",
   "metadata": {},
   "outputs": [],
   "source": []
  }
 ],
 "metadata": {
  "kernelspec": {
   "display_name": "Python 3 (ipykernel)",
   "language": "python",
   "name": "python3"
  },
  "language_info": {
   "codemirror_mode": {
    "name": "ipython",
    "version": 3
   },
   "file_extension": ".py",
   "mimetype": "text/x-python",
   "name": "python",
   "nbconvert_exporter": "python",
   "pygments_lexer": "ipython3",
   "version": "3.10.9"
  }
 },
 "nbformat": 4,
 "nbformat_minor": 5
}
