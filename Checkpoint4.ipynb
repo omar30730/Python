{
 "cells": [
  {
   "cell_type": "code",
   "execution_count": 11,
   "id": "a857386e",
   "metadata": {},
   "outputs": [
    {
     "name": "stdout",
     "output_type": "stream",
     "text": [
      "Enter the first number  :   25\n",
      "choose      +     ,     -     ,     *     or     /     :     /\n",
      "Enter the second number :  5\n",
      "The result is  :   5.0\n"
     ]
    }
   ],
   "source": [
    "def calculator():\n",
    "    num1=int(input(\"Enter the first number  :   \"))\n",
    "\n",
    "\n",
    "    operator=input(\"choose      +     ,     -     ,     *     or     /     :     \")\n",
    "\n",
    "\n",
    "    num2=int(input(\"Enter the second number :  \"))\n",
    "\n",
    "\n",
    "\n",
    "    if (operator==\"+\"):\n",
    "\n",
    "        print(\"The result is  :  \",num1+num2)\n",
    "\n",
    "\n",
    "    elif (operator ==\"-\"):                            #i take tiny help from google\n",
    "\n",
    "        print(\"The result is  :  \",num1-num2)\n",
    "\n",
    "\n",
    "    elif (operator ==\"*\"):\n",
    "\n",
    "        print(\"The result is  :  \",num1*num2)\n",
    "\n",
    "\n",
    "\n",
    "    elif (operator ==\"/\"):\n",
    "        print(\"The result is  :  \",num1/num2)    \n",
    "\n",
    "calculator( )\n",
    "    \n",
    "\n"
   ]
  },
  {
   "cell_type": "code",
   "execution_count": null,
   "id": "4c8a3abf",
   "metadata": {},
   "outputs": [],
   "source": []
  },
  {
   "cell_type": "code",
   "execution_count": null,
   "id": "98ea6f1e",
   "metadata": {},
   "outputs": [],
   "source": []
  },
  {
   "cell_type": "code",
   "execution_count": null,
   "id": "a77e3cf4",
   "metadata": {},
   "outputs": [],
   "source": []
  }
 ],
 "metadata": {
  "kernelspec": {
   "display_name": "Python 3 (ipykernel)",
   "language": "python",
   "name": "python3"
  },
  "language_info": {
   "codemirror_mode": {
    "name": "ipython",
    "version": 3
   },
   "file_extension": ".py",
   "mimetype": "text/x-python",
   "name": "python",
   "nbconvert_exporter": "python",
   "pygments_lexer": "ipython3",
   "version": "3.10.9"
  }
 },
 "nbformat": 4,
 "nbformat_minor": 5
}
