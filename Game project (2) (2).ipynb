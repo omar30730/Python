{
 "cells": [
  {
   "cell_type": "code",
   "execution_count": 1,
   "id": "09407dfc",
   "metadata": {},
   "outputs": [],
   "source": [
    "import random as rd\n",
    "from tkinter import *"
   ]
  },
  {
   "cell_type": "code",
   "execution_count": 2,
   "id": "98f66fbf",
   "metadata": {},
   "outputs": [
    {
     "name": "stdout",
     "output_type": "stream",
     "text": [
      "Enter a choice (paper , rock and scissors) : paper\n",
      "\n",
      "You choose paper, computer choose rock.\n",
      "\n",
      "You Win! Paper cover the rock\n"
     ]
    }
   ],
   "source": [
    "random_action = [\"paper\" , \"rock\" , \"scissors\"]\n",
    "comp_action = rd.choice(random_action)\n",
    "\n",
    "user_action = input(\"Enter a choice (paper , rock and scissors) : \")\n",
    "\n",
    "print(f\"\\nYou choose {user_action}, computer choose {comp_action}.\\n\")\n",
    "\n",
    "if user_action == comp_action:\n",
    "    print(f\"It's Tie! Both players select {user_action}\")\n",
    "elif user_action == \"rock\":\n",
    "    if comp_action == \"scissors\":\n",
    "        print(\"You Win! The Rock smashes the scissors\")\n",
    "    else:\n",
    "        print(\"You Lose! The paper cover the rock\")\n",
    "elif user_action == \"scissors\":\n",
    "    if comp_action == \"paper\":\n",
    "        print(\"You Win! scissors cuts paper\")\n",
    "    else:\n",
    "        print(\"You Lose! Rock smashes you \")\n",
    "elif user_action == \"paper\":\n",
    "    if comp_action == \"rock\":\n",
    "        print(\"You Win! Paper cover the rock\")\n",
    "    else:\n",
    "        print(\"You Lose! scissors cuts the paper\")"
   ]
  },
  {
   "cell_type": "code",
   "execution_count": null,
   "id": "6ab240a0",
   "metadata": {},
   "outputs": [],
   "source": []
  },
  {
   "cell_type": "code",
   "execution_count": null,
   "id": "8fe2fc73",
   "metadata": {},
   "outputs": [],
   "source": []
  }
 ],
 "metadata": {
  "kernelspec": {
   "display_name": "Python 3 (ipykernel)",
   "language": "python",
   "name": "python3"
  },
  "language_info": {
   "codemirror_mode": {
    "name": "ipython",
    "version": 3
   },
   "file_extension": ".py",
   "mimetype": "text/x-python",
   "name": "python",
   "nbconvert_exporter": "python",
   "pygments_lexer": "ipython3",
   "version": "3.10.9"
  }
 },
 "nbformat": 4,
 "nbformat_minor": 5
}
