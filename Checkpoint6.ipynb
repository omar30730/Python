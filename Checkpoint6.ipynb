{
 "cells": [
  {
   "cell_type": "code",
   "execution_count": 3,
   "id": "b5ddeef4",
   "metadata": {},
   "outputs": [
    {
     "name": "stdout",
     "output_type": "stream",
     "text": [
      "enter number of students1\n",
      "enter number of subjects3\n",
      "enter info for students  :  1\n",
      "enter enter grades for subject  :  1\n",
      "90\n",
      "enter enter grades for subject  :  2\n",
      "70\n",
      "enter enter grades for subject  :  3\n",
      "50\n",
      "[['210']\n",
      " ['70.0']\n",
      " ['B+']]\n"
     ]
    }
   ],
   "source": [
    "import numpy as np\n",
    "\n",
    "stu = int(input(\"enter number of students\"))\n",
    "\n",
    "sub = int(input(\"enter number of subjects\"))\n",
    "\n",
    "temp = []\n",
    "\n",
    "total = []\n",
    "\n",
    "for i in range(1,stu+1):\n",
    "    \n",
    "    print(\"enter info for students  : \",i)\n",
    "    \n",
    "    for j in range(1,sub+1):\n",
    "        \n",
    "        print(\"enter enter grades for subject  : \",j)\n",
    "        \n",
    "        x = int(input())\n",
    "        \n",
    "        temp.append(x)\n",
    "        \n",
    "    total.append(sum(temp))\n",
    "    \n",
    "    temp = []\n",
    "    \n",
    "perc = []\n",
    "\n",
    "for i in total:\n",
    "    \n",
    "    perc.append((i/(sub*100))*100)\n",
    "    \n",
    "grade = []\n",
    "\n",
    "for i in perc:\n",
    "    \n",
    "    if i >= 90:\n",
    "        grade.append(\"A+\")\n",
    "    elif i >= 80:\n",
    "        grade.append(\"A\")\n",
    "    elif i >= 70:\n",
    "        grade.append(\"B+\")\n",
    "    elif i >= 60:\n",
    "        grade.append(\"B\")\n",
    "    elif i >= 50:\n",
    "        grade.append(\"C\")\n",
    "    else:\n",
    "        grade.append(\"F\")\n",
    "\n",
    "        \n",
    "        \n",
    "arr = np.array([total,perc,grade])\n",
    "\n",
    "\n",
    "\n",
    "print(arr)"
   ]
  },
  {
   "cell_type": "code",
   "execution_count": null,
   "id": "d43760c2",
   "metadata": {},
   "outputs": [],
   "source": []
  }
 ],
 "metadata": {
  "kernelspec": {
   "display_name": "Python 3 (ipykernel)",
   "language": "python",
   "name": "python3"
  },
  "language_info": {
   "codemirror_mode": {
    "name": "ipython",
    "version": 3
   },
   "file_extension": ".py",
   "mimetype": "text/x-python",
   "name": "python",
   "nbconvert_exporter": "python",
   "pygments_lexer": "ipython3",
   "version": "3.10.9"
  }
 },
 "nbformat": 4,
 "nbformat_minor": 5
}
